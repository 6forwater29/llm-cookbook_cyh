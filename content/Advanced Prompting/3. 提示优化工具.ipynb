{
 "cells": [
  {
   "cell_type": "markdown",
   "id": "e67abf13-09f9-45ec-aa3d-42fa97763da5",
   "metadata": {},
   "source": [
    "# 第三章 提示优化工具"
   ]
  },
  {
   "cell_type": "markdown",
   "id": "592472ce-68ce-4c7f-8036-9b1b3d078175",
   "metadata": {},
   "source": [
    "<div class=\"toc\">\n",
    " <ul class=\"toc-item\">\n",
    "     <li><span><a href=\"#一、引言\" data-toc-modified-id=\"一、引言\">一、引言</a></span></li>\n",
    "     <li>\n",
    "         <span><a href=\"#二、优化 Prompt 的提示\" data-toc-modified-id=\"二、优化 Prompt 的提示\">二、优化 Prompt 的提示</a></span>\n",
    "         <ul class=\"toc-item\">\n",
    "             <li><span><a href=\"##2.1 示例 1\" data-toc-modified-id=\"2.1 示例 1\">2.1 示例 1</a></span></li>\n",
    "             <li><span><a href=\"##2.2 示例 2\" data-toc-modified-id=\"2.2 示例 2\">2.2 示例 2</a></span></li>\n",
    "             <li><span><a href=\"##2.3 示例 3\" data-toc-modified-id=\"2.3 示例 3\">2.3 示例 3</a></span></li>\n",
    "             </ul>\n",
    "         </li>\n",
    "     <li><span><a href=\"#三、总结与讨论\" data-toc-modified-id=\"三、总结与讨论\">三、总结与讨论</a></span></li>\n",
    "     </ul>\n",
    "</div>"
   ]
  },
  {
   "cell_type": "code",
   "execution_count": null,
   "id": "74feac5c-d4f3-494b-b2b3-d80df8df2709",
   "metadata": {},
   "outputs": [],
   "source": []
  },
  {
   "cell_type": "markdown",
   "id": "bd7ae329-4590-4b65-ad5b-aa6c63189d91",
   "metadata": {
    "tags": []
   },
   "source": [
    "## 一、引言\n",
    "***\n",
    "\n",
    "对于大语言模型（Large Language Models, LLMs），**我们通常需要遵循一些原则和策略来创建能产生高质量回答的有效提示：**\n",
    "\n",
    "1. 明确和具体：你应该尽可能明确和具体地描述你希望 LLM 执行的任务。如果你期望得到特定类型的回答，应在提示中明确指出。同时，如果存在任何具体的限制或要求，也应明确提出。\n",
    "\n",
    "2. 开放式与封闭式：你可以根据需求选择开放式问题（允许多种回答）或封闭式问题（限制回答范围）。这两种类型的问题各有优势，你应根据实际需求进行选择。\n",
    "\n",
    "3. 语境清晰：为了让 LLM 生成更有意义的回答，你需要确保提供足够的上下文。如果提示是基于之前的信息，那么这些信息应被包含在内。\n",
    "\n",
    "4. 创造力和想象力：如果你期望得到创新性的输出，可以鼓励人工智能进行发散思维或头脑风暴。如果这符合你的需求，你还可以建议人工智能模拟某些场景。\n",
    "\n",
    "**实际上，我们可以利用这些原则和策略来有效地优化提示。**\n",
    "\n",
    "本章将分享一个适用于 LLM 的优化提示工具。这个工具可以帮助你有效地优化提示，就像 [PromptPerfect](https://promptperfect.jina.ai/home) 哪样，从而充分发挥 LLM 的潜力，获得更准确、更与上下文相关的回答。\n"
   ]
  },
  {
   "cell_type": "code",
   "execution_count": null,
   "id": "b978e222-7c08-499a-ae82-32e59525387c",
   "metadata": {},
   "outputs": [],
   "source": []
  },
  {
   "cell_type": "markdown",
   "id": "fe163085-5e4c-45ec-8f7c-bbad5d0cb1bb",
   "metadata": {},
   "source": [
    "## 二、优化 Prompt 的提示\n",
    "***\n",
    "\n",
    "注意：我使用的测试环境是 Anaconda + Python 3.8.10。Python 的版本要求 Python 3.7+。\n",
    "\n",
    "开始实验之前，我们需要安装好本次实验所需的第三方依赖库：`openai`：OpenAI Python 库提供了一个便捷的途径，让任何 Python 3.7+ 应用程序可以访问 OpenAI REST API。你可以通过运行以下命令来安装：`pip install openai==1.10.0`。"
   ]
  },
  {
   "cell_type": "markdown",
   "id": "5d2b18e9-d707-4bf1-bc21-180261ef5935",
   "metadata": {},
   "source": [
    "导入此次实验所需的依赖库"
   ]
  },
  {
   "cell_type": "code",
   "execution_count": 1,
   "id": "6161f2dc-84a1-4ce2-aaf2-be2999a1bfdb",
   "metadata": {},
   "outputs": [],
   "source": [
    "import os\n",
    "from openai import OpenAI\n",
    "\n",
    "\n",
    "# 从环境变量中获取 OpenAI API Key 或者直接赋值\n",
    "OPENAI_API_KEY = os.environ['OPENAI_API_KEY']\n",
    "OPENAI_API_KEY = \"sk-...你的 OpenAI API Key\"\n",
    "\n",
    "# 如果您使用的是官方 API，就直接用 https://api.openai.com/v1 就行。\n",
    "BASE_URL = \"https://api.openai.com/v1\"\n",
    "# 如果您使用的不是官方 API，而是通过代理进行请求，请设置您的代理 URL。\n",
    "# BASE_URL = \"https://api.xxx.../v1\""
   ]
  },
  {
   "cell_type": "code",
   "execution_count": 2,
   "id": "ddb67b03-9216-4e2d-93ef-d3b0f0e26724",
   "metadata": {},
   "outputs": [],
   "source": [
    "# 实例化 OpenAI 对象\n",
    "# 传入参数：OpenAI API Key（必需）、Base URL 和最大重试次数\n",
    "client = OpenAI(api_key=OPENAI_API_KEY, base_url=BASE_URL, max_retries=3)"
   ]
  },
  {
   "cell_type": "code",
   "execution_count": 3,
   "id": "fc0a7c50-c6d3-4dd3-923f-b62e4d81bf85",
   "metadata": {},
   "outputs": [],
   "source": [
    "# 参数 n，整数或 Null，可选项，默认为 1。为每条输入信息生成多少个聊天完成选项。\n",
    "# 参数 temperature，实数值或 Null，可选项，默认为 1。使用的采样温度，介于 0 和 2 之间。0.8 等较高值会使输出更加随机，而 0.2 等较低值会使输出更加集中和确定。\n",
    "\n",
    "def get_completions(system_instruction, llm_prompt, model_endpoint):\n",
    "\n",
    "    response = client.chat.completions.create(model=model_endpoint,\n",
    "                                              messages=[{\"role\": \"system\", \"content\": system_instruction},\n",
    "                                                        {\"role\": \"user\", \"content\": llm_prompt}\n",
    "                                                       ],\n",
    "                                              n=1, temperature=0.60, seed=42,\n",
    "                                              presence_penalty=0, frequency_penalty=0,\n",
    "                                              max_tokens=1024\n",
    "                                             )\n",
    "\n",
    "    return response.choices[0].message.content.strip()"
   ]
  },
  {
   "cell_type": "markdown",
   "id": "aa608fec-0cad-4158-9735-6c5f1090d080",
   "metadata": {},
   "source": [
    "### 2.1 示例 1"
   ]
  },
  {
   "cell_type": "code",
   "execution_count": 4,
   "id": "bbf05142-cd98-4229-af2e-8a3c820030a2",
   "metadata": {},
   "outputs": [
    {
     "name": "stdout",
     "output_type": "stream",
     "text": [
      "生成结果-中文：\n",
      "\n",
      "在与团队和利益相关者分享机器学习模型的预测结果时，提供清晰、简洁的解释是至关重要的。为了有效地传达这些信息，请设计一个经过优化的 ChatGPT 提示：\n",
      "\n",
      "\"请提供一种简洁而易于理解的方式，向团队和利益相关者解释机器学习模型的预测结果。确保解释包括以下关键信息：预测结果的意义、模型的置信水平、预测结果对业务决策的影响以及任何潜在的局限性或不确定性。请以非技术性的语言解释，以确保所有人都能理解。\"\n"
     ]
    }
   ],
   "source": [
    "llm = \"gpt-3.5-turbo-0125\"\n",
    "\n",
    "system_instruction = f\"\"\"你是一位出色的人工智能提示工程师。\\\n",
    "你是设计 ChatGPT 提示的专家，能取得最佳效果。\n",
    "\n",
    "要创建能产生高质量回答的有效提示，请考虑以下原则和策略：\n",
    "1. 明确和具体：尽可能明确、具体地说明你希望人工智能做些什么。如果你想要某种类型的答复，请在提示中简要说明。如果有具体的限制或要求，也一定要写明。\n",
    "2. 开放式与封闭式：根据你的需求，你可能会选择开放式问题（允许多种回答）或封闭式问题（缩小可能回答的范围）。两者都有其用途，请根据自己的需要进行选择。\n",
    "3. 语境清晰：确保提供足够的上下文，以便人工智能生成有意义的相关回复。如果提示是基于先前的信息，则应确保包含这些信息。\n",
    "4. 创造力和想象力：如果你想要创造性的输出，可以鼓励人工智能发散思维或进行头脑风暴。如果符合你的需求，你甚至可以建议人工智能想象某些场景。\n",
    "\n",
    "以 <> 为分界的提示是一个好的示例，供你参考：<你的任务是成为我的头脑风暴伙伴，为给定的主题或问题提供有创意的想法和建议。你的回答应包括原创、独特和相关的想法，这些想法可以帮助解决问题或以有趣的方式进一步探讨该主题。请注意，你的回答还应考虑到任务的任何具体要求或限制。>\n",
    "\n",
    "你的任务是根据给定的关键词或提示进行优化，设计出一个新的、经过优化的 ChatGPT 提示。\n",
    "\"\"\"\n",
    "\n",
    "prompt_Chinese = f\"\"\"根据以下关键词或提示，设计出一个新的、经过优化的 ChatGPT 提示：\n",
    "<如何有效地向团队和利益相关者解释机器学习模型的预测结果？>\n",
    "\"\"\"\n",
    "\n",
    "result_Chinese = get_completions(system_instruction, prompt_Chinese, llm)\n",
    "print(f\"生成结果-中文：\\n\\n{result_Chinese}\")"
   ]
  },
  {
   "cell_type": "code",
   "execution_count": 5,
   "id": "4b717369-cca0-4238-a066-007f11d26c96",
   "metadata": {},
   "outputs": [
    {
     "name": "stdout",
     "output_type": "stream",
     "text": [
      "生成结果-英文：\n",
      "\n",
      "In a scenario where you need to effectively explain machine learning model predictions to your team and stakeholders, how would you approach this communication challenge? Share detailed strategies, techniques, and examples on how to convey complex predictions in a clear and understandable manner to a non-technical audience.\n"
     ]
    }
   ],
   "source": [
    "llm = \"gpt-3.5-turbo-0125\"\n",
    "\n",
    "system_instruction = f\"\"\"You are an exceptional AI prompt engineer. \\\n",
    "You are an expert at writing ChatGPT Prompts for best results.\n",
    "\n",
    "To create efficient prompts that yield high-quality responses, \\\n",
    "consider the following principles and strategies:\n",
    "1. Clear and Specific: Be as clear and specific as possible about what you want from the AI. If you want a certain type of response, outline that in your prompt. If there are specific constraints or requirements, make sure to include those as well.\n",
    "2. Open-ended vs. Closed-ended: Depending on what you're seeking, you might choose to ask an open-ended question (which allows for a wide range of responses) or a closed-ended question (which narrows down the possible responses). Both have their uses, so choose according to your needs.\n",
    "3. Contextual Clarity: Make sure to provide enough context so that the AI can generate a meaningful and relevant response. If the prompt is based on prior information, ensure that this is included.\n",
    "4. Creativity and Imagination: If you want creative output, encourage the AI to think outside the box or to brainstorm. You can even suggest the AI to imagine certain scenarios if it fits your needs.\n",
    "\n",
    "There is a well-written prompt delimited by <> for your reference: <Your task is to be my brainstorming partner and provide creative ideas and suggestions for a given topic or problem. Your response should include original, unique, and relevant ideas that could help solve the problem or further explore the topic in an interesting way. Please note that your response should also take into account any specific requirements or constraints of the task.>\n",
    "\n",
    "Your task is to write a new, optimized ChatGPT prompt based on the given keywords or prompt.\n",
    "\"\"\"\n",
    "\n",
    "prompt_English = f\"\"\"Write a new, optimized ChatGPT prompt based on the following keywords or prompt:\n",
    "<How effectively explain machine learning model predictions to your team and stakeholders?>\n",
    "\"\"\"\n",
    "\n",
    "result_English = get_completions(system_instruction, prompt_English, llm)\n",
    "print(f\"生成结果-英文：\\n\\n{result_English}\")"
   ]
  },
  {
   "cell_type": "markdown",
   "id": "43301ed5-d487-4c5c-938a-846e8b9bf34f",
   "metadata": {},
   "source": [
    "### 2.2 示例 2"
   ]
  },
  {
   "cell_type": "code",
   "execution_count": 6,
   "id": "6e36f539-391d-4e61-9f6d-44ef7c9ae3e6",
   "metadata": {},
   "outputs": [
    {
     "name": "stdout",
     "output_type": "stream",
     "text": [
      "生成结果-中文：\n",
      "\n",
      "<请将下面的中文文本翻译成流畅的英文，并进行润色，使之更加自然和易于理解。>\n"
     ]
    }
   ],
   "source": [
    "llm = \"gpt-3.5-turbo-0125\"\n",
    "\n",
    "system_instruction = f\"\"\"你是一位出色的人工智能提示工程师。\\\n",
    "你是设计 ChatGPT 提示的专家，能取得最佳效果。\n",
    "\n",
    "要创建能产生高质量回答的有效提示，请考虑以下原则和策略：\n",
    "1. 明确和具体：尽可能明确、具体地说明你希望人工智能做些什么。如果你想要某种类型的答复，请在提示中简要说明。如果有具体的限制或要求，也一定要写明。\n",
    "2. 开放式与封闭式：根据你的需求，你可能会选择开放式问题（允许多种回答）或封闭式问题（缩小可能回答的范围）。两者都有其用途，请根据自己的需要进行选择。\n",
    "3. 语境清晰：确保提供足够的上下文，以便人工智能生成有意义的相关回复。如果提示是基于先前的信息，则应确保包含这些信息。\n",
    "4. 创造力和想象力：如果你想要创造性的输出，可以鼓励人工智能发散思维或进行头脑风暴。如果符合你的需求，你甚至可以建议人工智能想象某些场景。\n",
    "\n",
    "以 <> 为分界的提示是一个好的示例，供你参考：<你的任务是成为我的头脑风暴伙伴，为给定的主题或问题提供有创意的想法和建议。你的回答应包括原创、独特和相关的想法，这些想法可以帮助解决问题或以有趣的方式进一步探讨该主题。请注意，你的回答还应考虑到任务的任何具体要求或限制。>\n",
    "\n",
    "你的任务是根据给定的关键词或提示进行优化，设计出一个新的、经过优化的 ChatGPT 提示。\n",
    "\"\"\"\n",
    "\n",
    "prompt_Chinese = f\"\"\"根据以下关键词或提示，设计出一个新的、经过优化的 ChatGPT 提示：\n",
    "<将以下中文文本翻译成英文，然后润色。>\n",
    "\"\"\"\n",
    "\n",
    "result_Chinese = get_completions(system_instruction, prompt_Chinese, llm)\n",
    "print(f\"生成结果-中文：\\n\\n{result_Chinese}\")"
   ]
  },
  {
   "cell_type": "code",
   "execution_count": 7,
   "id": "9c8ca2b0-e9ce-40fd-a7dd-a49005cdc052",
   "metadata": {},
   "outputs": [
    {
     "name": "stdout",
     "output_type": "stream",
     "text": [
      "生成结果-英文：\n",
      "\n",
      "Could you please translate the provided Chinese text into English and then refine the translation for clarity and fluency?\n"
     ]
    }
   ],
   "source": [
    "llm = \"gpt-3.5-turbo-0125\"\n",
    "\n",
    "system_instruction = f\"\"\"You are an exceptional AI prompt engineer. \\\n",
    "You are an expert at writing ChatGPT Prompts for best results.\n",
    "\n",
    "To create efficient prompts that yield high-quality responses, \\\n",
    "consider the following principles and strategies:\n",
    "1. Clear and Specific: Be as clear and specific as possible about what you want from the AI. If you want a certain type of response, outline that in your prompt. If there are specific constraints or requirements, make sure to include those as well.\n",
    "2. Open-ended vs. Closed-ended: Depending on what you're seeking, you might choose to ask an open-ended question (which allows for a wide range of responses) or a closed-ended question (which narrows down the possible responses). Both have their uses, so choose according to your needs.\n",
    "3. Contextual Clarity: Make sure to provide enough context so that the AI can generate a meaningful and relevant response. If the prompt is based on prior information, ensure that this is included.\n",
    "4. Creativity and Imagination: If you want creative output, encourage the AI to think outside the box or to brainstorm. You can even suggest the AI to imagine certain scenarios if it fits your needs.\n",
    "\n",
    "There is a well-written prompt delimited by <> for your reference: <Your task is to be my brainstorming partner and provide creative ideas and suggestions for a given topic or problem. Your response should include original, unique, and relevant ideas that could help solve the problem or further explore the topic in an interesting way. Please note that your response should also take into account any specific requirements or constraints of the task.>\n",
    "\n",
    "Your task is to write a new, optimized ChatGPT prompt based on the given keywords or prompt.\n",
    "\"\"\"\n",
    "\n",
    "prompt_English = f\"\"\"Write a new, optimized ChatGPT prompt based on the following keywords or prompt:\n",
    "<Translate the following Chinese text into English and then polish it.>\n",
    "\"\"\"\n",
    "\n",
    "result_English = get_completions(system_instruction, prompt_English, llm)\n",
    "print(f\"生成结果-英文：\\n\\n{result_English}\")"
   ]
  },
  {
   "cell_type": "markdown",
   "id": "5fdef6ad-dbd1-4919-b08f-381c6780f2d8",
   "metadata": {},
   "source": [
    "### 2.3 示例 3"
   ]
  },
  {
   "cell_type": "code",
   "execution_count": 8,
   "id": "8d4e848a-42a5-4857-bdb7-e98f2a33002d",
   "metadata": {},
   "outputs": [
    {
     "name": "stdout",
     "output_type": "stream",
     "text": [
      "生成结果-中文：\n",
      "\n",
      "在 Markdown 格式中总结论文是一个有效的方式，可以使得信息更清晰、易读。请使用 Markdown 格式，总结给定的论文，并确保包括标题、段落、列表等元素，以便清晰地呈现论文的要点和结论。\n"
     ]
    }
   ],
   "source": [
    "llm = \"gpt-3.5-turbo-0125\"\n",
    "\n",
    "system_instruction = f\"\"\"你是一位出色的人工智能提示工程师。\\\n",
    "你是设计 ChatGPT 提示的专家，能取得最佳效果。\n",
    "\n",
    "要创建能产生高质量回答的有效提示，请考虑以下原则和策略：\n",
    "1. 明确和具体：尽可能明确、具体地说明你希望人工智能做些什么。如果你想要某种类型的答复，请在提示中简要说明。如果有具体的限制或要求，也一定要写明。\n",
    "2. 开放式与封闭式：根据你的需求，你可能会选择开放式问题（允许多种回答）或封闭式问题（缩小可能回答的范围）。两者都有其用途，请根据自己的需要进行选择。\n",
    "3. 语境清晰：确保提供足够的上下文，以便人工智能生成有意义的相关回复。如果提示是基于先前的信息，则应确保包含这些信息。\n",
    "4. 创造力和想象力：如果你想要创造性的输出，可以鼓励人工智能发散思维或进行头脑风暴。如果符合你的需求，你甚至可以建议人工智能想象某些场景。\n",
    "\n",
    "以 <> 为分界的提示是一个好的示例，供你参考：<你的任务是成为我的头脑风暴伙伴，为给定的主题或问题提供有创意的想法和建议。你的回答应包括原创、独特和相关的想法，这些想法可以帮助解决问题或以有趣的方式进一步探讨该主题。请注意，你的回答还应考虑到任务的任何具体要求或限制。>\n",
    "\n",
    "你的任务是根据给定的关键词或提示进行优化，设计出一个新的、经过优化的 ChatGPT 提示。\n",
    "\"\"\"\n",
    "\n",
    "prompt_Chinese = f\"\"\"根据以下关键词或提示，设计出一个新的、经过优化的 ChatGPT 提示：\n",
    "<看论文；总结；Markdown 格式>\n",
    "\"\"\"\n",
    "\n",
    "result_Chinese = get_completions(system_instruction, prompt_Chinese, llm)\n",
    "print(f\"生成结果-中文：\\n\\n{result_Chinese}\")"
   ]
  },
  {
   "cell_type": "code",
   "execution_count": 9,
   "id": "c125af74-24cb-4b08-a270-c23d904578e6",
   "metadata": {},
   "outputs": [
    {
     "name": "stdout",
     "output_type": "stream",
     "text": [
      "生成结果-英文：\n",
      "\n",
      "Could you please read the paper and provide a summary of its key points in Markdown format?\n"
     ]
    }
   ],
   "source": [
    "llm = \"gpt-3.5-turbo-0125\"\n",
    "\n",
    "system_instruction = f\"\"\"You are an exceptional AI prompt engineer. \\\n",
    "You are an expert at writing ChatGPT Prompts for best results.\n",
    "\n",
    "To create efficient prompts that yield high-quality responses, \\\n",
    "consider the following principles and strategies:\n",
    "1. Clear and Specific: Be as clear and specific as possible about what you want from the AI. If you want a certain type of response, outline that in your prompt. If there are specific constraints or requirements, make sure to include those as well.\n",
    "2. Open-ended vs. Closed-ended: Depending on what you're seeking, you might choose to ask an open-ended question (which allows for a wide range of responses) or a closed-ended question (which narrows down the possible responses). Both have their uses, so choose according to your needs.\n",
    "3. Contextual Clarity: Make sure to provide enough context so that the AI can generate a meaningful and relevant response. If the prompt is based on prior information, ensure that this is included.\n",
    "4. Creativity and Imagination: If you want creative output, encourage the AI to think outside the box or to brainstorm. You can even suggest the AI to imagine certain scenarios if it fits your needs.\n",
    "\n",
    "There is a well-written prompt delimited by <> for your reference: <Your task is to be my brainstorming partner and provide creative ideas and suggestions for a given topic or problem. Your response should include original, unique, and relevant ideas that could help solve the problem or further explore the topic in an interesting way. Please note that your response should also take into account any specific requirements or constraints of the task.>\n",
    "\n",
    "Your task is to write a new, optimized ChatGPT prompt based on the given keywords or prompt.\n",
    "\"\"\"\n",
    "\n",
    "prompt_English = f\"\"\"Write a new, optimized ChatGPT prompt based on the following keywords or prompt:\n",
    "<Read paper; Summarize; Markdown format>\n",
    "\"\"\"\n",
    "\n",
    "result_English = get_completions(system_instruction, prompt_English, llm)\n",
    "print(f\"生成结果-英文：\\n\\n{result_English}\")"
   ]
  },
  {
   "cell_type": "code",
   "execution_count": null,
   "id": "528d3745-bfbe-4a32-8b49-b09eb63dca89",
   "metadata": {},
   "outputs": [],
   "source": []
  },
  {
   "cell_type": "markdown",
   "id": "ae89450c-a90e-4517-8be2-321d2e342cb8",
   "metadata": {
    "tags": []
   },
   "source": [
    "## 三、总结与讨论\n",
    "***\n",
    "\n",
    "本章分享了一个适用于大语言模型的优化提示工具。这个工具有时能够帮助你有效地优化提示，就像 [PromptPerfect](https://promptperfect.jina.ai/home) 那样，从而充分发挥大语言模型的潜力，获得更准确、更与上下文相关的回答。\n",
    "\n",
    "\n",
    "**优化 ChatGPT 的 Prompts 对于提升交互体验和生成结果的质量非常重要。**以下是一些主要的原因：\n",
    "- 提高准确性：通过优化 Prompts，我们可以更准确地引导 ChatGPT 生成我们期望的回答。这对于获取准确、相关和有用的信息至关重要。\n",
    "\n",
    "- 提高效率：优化的 Prompts 可以减少无效或者不相关的回答，从而提高交互的效率。\n",
    "\n",
    "- 增强可控性：通过优化 Prompts，我们可以更好地控制 ChatGPT 的输出，使其更符合用户的需求和期望。\n",
    "\n",
    "- 提升用户体验：优化的 Prompts 可以帮助 ChatGPT 更好地理解用户的需求，从而提供更满意的回答，提升用户体验。\n",
    "\n",
    "总的来说，优化 Prompts 是提高 ChatGPT 性能和用户满意度的关键步骤。它有助于我们更好地利用提示工程（Prompt Engineering），为用户提供高质量的服务。\n"
   ]
  },
  {
   "cell_type": "code",
   "execution_count": null,
   "id": "af33df7f-69a6-4bac-9978-45e86624a972",
   "metadata": {},
   "outputs": [],
   "source": []
  },
  {
   "cell_type": "code",
   "execution_count": null,
   "id": "1cc3b926-89b1-49d8-a857-ff2139a0c63b",
   "metadata": {},
   "outputs": [],
   "source": []
  }
 ],
 "metadata": {
  "kernelspec": {
   "display_name": "Python 3 (ipykernel)",
   "language": "python",
   "name": "python3"
  },
  "language_info": {
   "codemirror_mode": {
    "name": "ipython",
    "version": 3
   },
   "file_extension": ".py",
   "mimetype": "text/x-python",
   "name": "python",
   "nbconvert_exporter": "python",
   "pygments_lexer": "ipython3",
   "version": "3.8.10"
  },
  "toc-autonumbering": false,
  "toc-showcode": false,
  "toc-showmarkdowntxt": false
 },
 "nbformat": 4,
 "nbformat_minor": 5
}
